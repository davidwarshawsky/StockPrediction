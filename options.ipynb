{
 "cells": [
  {
   "cell_type": "code",
   "execution_count": 7,
   "metadata": {},
   "outputs": [],
   "source": [
    "from data.Options import *\n",
    "\n",
    "symbol = \"AAPL\"\n",
    "recs = get_rec(\"AAPL\",printit=False)\n",
    "\n",
    "dates  = get_options_dates(symbol)\n",
    "chains = get_option_chains(symbol,dates)\n",
    "puts   = get_puts(chains)\n",
    "calls  = get_calls(chains)"
   ]
  },
  {
   "cell_type": "code",
   "execution_count": 12,
   "metadata": {},
   "outputs": [
    {
     "name": "stdout",
     "output_type": "stream",
     "text": [
      "lastTradeDate        datetime64[ns]\n",
      "strike                      float64\n",
      "lastPrice                   float64\n",
      "bid                         float64\n",
      "ask                         float64\n",
      "change                      float64\n",
      "percentChange               float64\n",
      "volume                      float64\n",
      "openInterest                float64\n",
      "impliedVolatility           float64\n",
      "inTheMoney                    int64\n",
      "dtype: object\n",
      "lastTradeDate        datetime64[ns]\n",
      "strike                      float64\n",
      "lastPrice                   float64\n",
      "bid                         float64\n",
      "ask                         float64\n",
      "change                      float64\n",
      "percentChange               float64\n",
      "volume                      float64\n",
      "openInterest                float64\n",
      "impliedVolatility           float64\n",
      "inTheMoney                    int64\n",
      "dtype: object\n",
      "(706, 4) (1104, 11) (1042, 11)\n"
     ]
    }
   ],
   "source": [
    "puts, calls = process_options(puts,dates),process_options(calls,dates)\n",
    "print(\n",
    "recs.shape,\n",
    "calls.shape,\n",
    "puts.shape)"
   ]
  }
 ],
 "metadata": {
  "kernelspec": {
   "display_name": "Python 3",
   "language": "python",
   "name": "python3"
  },
  "language_info": {
   "codemirror_mode": {
    "name": "ipython",
    "version": 3
   },
   "file_extension": ".py",
   "mimetype": "text/x-python",
   "name": "python",
   "nbconvert_exporter": "python",
   "pygments_lexer": "ipython3",
   "version": "3.7.7"
  }
 },
 "nbformat": 4,
 "nbformat_minor": 1
}
