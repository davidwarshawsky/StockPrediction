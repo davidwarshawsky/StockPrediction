{
 "cells": [
  {
   "cell_type": "markdown",
   "metadata": {
    "pycharm": {
     "name": "#%% md\n"
    }
   },
   "source": [
    "Import Modules"
   ]
  },
  {
   "cell_type": "code",
   "execution_count": 1,
   "metadata": {
    "_kg_hide-input": true
   },
   "outputs": [
    {
     "name": "stderr",
     "output_type": "stream",
     "text": [
      "C:\\ProgramData\\Anaconda3.5\\lib\\site-packages\\statsmodels\\tools\\_testing.py:19: FutureWarning: pandas.util.testing is deprecated. Use the functions in the public API at pandas.testing instead.\n",
      "  import pandas.util.testing as tm\n",
      "C:\\ProgramData\\Anaconda3.5\\lib\\site-packages\\sklearn\\externals\\six.py:31: FutureWarning: The module is deprecated in version 0.21 and will be removed in version 0.23 since we've dropped support for Python 2.7. Please rely on the official version of six (https://pypi.org/project/six/).\n",
      "  \"(https://pypi.org/project/six/).\", FutureWarning)\n"
     ]
    },
    {
     "ename": "ImportError",
     "evalue": "cannot import name 'bytes_to_str'",
     "output_type": "error",
     "traceback": [
      "\u001b[1;31m---------------------------------------------------------------------------\u001b[0m",
      "\u001b[1;31mImportError\u001b[0m                               Traceback (most recent call last)",
      "\u001b[1;32m<ipython-input-1-d9a78d089d3d>\u001b[0m in \u001b[0;36m<module>\u001b[1;34m\u001b[0m\n\u001b[0;32m     10\u001b[0m \u001b[1;33m\u001b[0m\u001b[0m\n\u001b[0;32m     11\u001b[0m \u001b[1;32mfrom\u001b[0m \u001b[0mIPython\u001b[0m\u001b[1;33m.\u001b[0m\u001b[0mdisplay\u001b[0m \u001b[1;32mimport\u001b[0m \u001b[0mclear_output\u001b[0m\u001b[1;33m\u001b[0m\u001b[0m\n\u001b[1;32m---> 12\u001b[1;33m \u001b[1;32mfrom\u001b[0m \u001b[0mfunctions\u001b[0m \u001b[1;32mimport\u001b[0m \u001b[1;33m*\u001b[0m\u001b[1;33m\u001b[0m\u001b[0m\n\u001b[0m\u001b[0;32m     13\u001b[0m \u001b[1;33m\u001b[0m\u001b[0m\n\u001b[0;32m     14\u001b[0m \u001b[1;32mfrom\u001b[0m \u001b[0msklearn\u001b[0m\u001b[1;33m.\u001b[0m\u001b[0mmetrics\u001b[0m \u001b[1;32mimport\u001b[0m \u001b[0mf1_score\u001b[0m\u001b[1;33m,\u001b[0m \u001b[0maccuracy_score\u001b[0m\u001b[1;33m\u001b[0m\u001b[0m\n",
      "\u001b[1;32m~\\stock_prediction\\functions.py\u001b[0m in \u001b[0;36m<module>\u001b[1;34m\u001b[0m\n\u001b[0;32m      1\u001b[0m \u001b[1;32mimport\u001b[0m \u001b[0mnumpy\u001b[0m \u001b[1;32mas\u001b[0m \u001b[0mnp\u001b[0m\u001b[1;33m\u001b[0m\u001b[0m\n\u001b[0;32m      2\u001b[0m \u001b[1;32mimport\u001b[0m \u001b[0mpandas\u001b[0m \u001b[1;32mas\u001b[0m \u001b[0mpd\u001b[0m\u001b[1;33m\u001b[0m\u001b[0m\n\u001b[1;32m----> 3\u001b[1;33m \u001b[1;32mimport\u001b[0m \u001b[0mpandas_datareader\u001b[0m\u001b[1;33m.\u001b[0m\u001b[0mdata\u001b[0m \u001b[1;32mas\u001b[0m \u001b[0mdr\u001b[0m\u001b[1;33m\u001b[0m\u001b[0m\n\u001b[0m\u001b[0;32m      4\u001b[0m \u001b[1;31m#\u001b[0m\u001b[1;33m\u001b[0m\u001b[1;33m\u001b[0m\u001b[0m\n\u001b[0;32m      5\u001b[0m \u001b[1;32mimport\u001b[0m \u001b[0mmatplotlib\u001b[0m\u001b[1;33m.\u001b[0m\u001b[0mpyplot\u001b[0m \u001b[1;32mas\u001b[0m \u001b[0mplt\u001b[0m\u001b[1;33m\u001b[0m\u001b[0m\n",
      "\u001b[1;32mC:\\ProgramData\\Anaconda3.5\\lib\\site-packages\\pandas_datareader\\__init__.py\u001b[0m in \u001b[0;36m<module>\u001b[1;34m\u001b[0m\n\u001b[0;32m      1\u001b[0m \u001b[1;32mfrom\u001b[0m \u001b[1;33m.\u001b[0m\u001b[0m_version\u001b[0m \u001b[1;32mimport\u001b[0m \u001b[0mget_versions\u001b[0m\u001b[1;33m\u001b[0m\u001b[0m\n\u001b[1;32m----> 2\u001b[1;33m from .data import (DataReader, Options, get_components_yahoo,\n\u001b[0m\u001b[0;32m      3\u001b[0m                    \u001b[0mget_dailysummary_iex\u001b[0m\u001b[1;33m,\u001b[0m \u001b[0mget_data_enigma\u001b[0m\u001b[1;33m,\u001b[0m \u001b[0mget_data_famafrench\u001b[0m\u001b[1;33m,\u001b[0m\u001b[1;33m\u001b[0m\u001b[0m\n\u001b[0;32m      4\u001b[0m                    \u001b[0mget_data_fred\u001b[0m\u001b[1;33m,\u001b[0m \u001b[0mget_data_moex\u001b[0m\u001b[1;33m,\u001b[0m \u001b[0mget_data_quandl\u001b[0m\u001b[1;33m,\u001b[0m\u001b[1;33m\u001b[0m\u001b[0m\n\u001b[0;32m      5\u001b[0m                    \u001b[0mget_data_stooq\u001b[0m\u001b[1;33m,\u001b[0m \u001b[0mget_data_yahoo\u001b[0m\u001b[1;33m,\u001b[0m \u001b[0mget_data_yahoo_actions\u001b[0m\u001b[1;33m,\u001b[0m\u001b[1;33m\u001b[0m\u001b[0m\n",
      "\u001b[1;32mC:\\ProgramData\\Anaconda3.5\\lib\\site-packages\\pandas_datareader\\data.py\u001b[0m in \u001b[0;36m<module>\u001b[1;34m\u001b[0m\n\u001b[0;32m      5\u001b[0m \u001b[1;32mimport\u001b[0m \u001b[0mwarnings\u001b[0m\u001b[1;33m\u001b[0m\u001b[0m\n\u001b[0;32m      6\u001b[0m \u001b[1;33m\u001b[0m\u001b[0m\n\u001b[1;32m----> 7\u001b[1;33m \u001b[1;32mfrom\u001b[0m \u001b[0mpandas_datareader\u001b[0m\u001b[1;33m.\u001b[0m\u001b[0mav\u001b[0m\u001b[1;33m.\u001b[0m\u001b[0mforex\u001b[0m \u001b[1;32mimport\u001b[0m \u001b[0mAVForexReader\u001b[0m\u001b[1;33m\u001b[0m\u001b[0m\n\u001b[0m\u001b[0;32m      8\u001b[0m \u001b[1;32mfrom\u001b[0m \u001b[0mpandas_datareader\u001b[0m\u001b[1;33m.\u001b[0m\u001b[0mav\u001b[0m\u001b[1;33m.\u001b[0m\u001b[0mquotes\u001b[0m \u001b[1;32mimport\u001b[0m \u001b[0mAVQuotesReader\u001b[0m\u001b[1;33m\u001b[0m\u001b[0m\n\u001b[0;32m      9\u001b[0m \u001b[1;32mfrom\u001b[0m \u001b[0mpandas_datareader\u001b[0m\u001b[1;33m.\u001b[0m\u001b[0mav\u001b[0m\u001b[1;33m.\u001b[0m\u001b[0msector\u001b[0m \u001b[1;32mimport\u001b[0m \u001b[0mAVSectorPerformanceReader\u001b[0m\u001b[1;33m\u001b[0m\u001b[0m\n",
      "\u001b[1;32mC:\\ProgramData\\Anaconda3.5\\lib\\site-packages\\pandas_datareader\\av\\__init__.py\u001b[0m in \u001b[0;36m<module>\u001b[1;34m\u001b[0m\n\u001b[0;32m      1\u001b[0m \u001b[1;32mimport\u001b[0m \u001b[0mos\u001b[0m\u001b[1;33m\u001b[0m\u001b[0m\n\u001b[0;32m      2\u001b[0m \u001b[1;33m\u001b[0m\u001b[0m\n\u001b[1;32m----> 3\u001b[1;33m \u001b[1;32mfrom\u001b[0m \u001b[0mpandas_datareader\u001b[0m\u001b[1;33m.\u001b[0m\u001b[0mbase\u001b[0m \u001b[1;32mimport\u001b[0m \u001b[0m_BaseReader\u001b[0m\u001b[1;33m\u001b[0m\u001b[0m\n\u001b[0m\u001b[0;32m      4\u001b[0m \u001b[1;32mfrom\u001b[0m \u001b[0mpandas_datareader\u001b[0m\u001b[1;33m.\u001b[0m\u001b[0m_utils\u001b[0m \u001b[1;32mimport\u001b[0m \u001b[0mRemoteDataError\u001b[0m\u001b[1;33m\u001b[0m\u001b[0m\n\u001b[0;32m      5\u001b[0m \u001b[1;33m\u001b[0m\u001b[0m\n",
      "\u001b[1;32mC:\\ProgramData\\Anaconda3.5\\lib\\site-packages\\pandas_datareader\\base.py\u001b[0m in \u001b[0;36m<module>\u001b[1;34m\u001b[0m\n\u001b[0;32m     10\u001b[0m \u001b[1;32mfrom\u001b[0m \u001b[0mpandas\u001b[0m \u001b[1;32mimport\u001b[0m \u001b[0mread_csv\u001b[0m\u001b[1;33m,\u001b[0m \u001b[0mconcat\u001b[0m\u001b[1;33m\u001b[0m\u001b[0m\n\u001b[0;32m     11\u001b[0m \u001b[1;32mfrom\u001b[0m \u001b[0mpandas\u001b[0m\u001b[1;33m.\u001b[0m\u001b[0mio\u001b[0m\u001b[1;33m.\u001b[0m\u001b[0mcommon\u001b[0m \u001b[1;32mimport\u001b[0m \u001b[0murlencode\u001b[0m\u001b[1;33m\u001b[0m\u001b[0m\n\u001b[1;32m---> 12\u001b[1;33m \u001b[1;32mfrom\u001b[0m \u001b[0mpandas\u001b[0m\u001b[1;33m.\u001b[0m\u001b[0mcompat\u001b[0m \u001b[1;32mimport\u001b[0m \u001b[0mbytes_to_str\u001b[0m\u001b[1;33m\u001b[0m\u001b[0m\n\u001b[0m\u001b[0;32m     13\u001b[0m \u001b[1;33m\u001b[0m\u001b[0m\n\u001b[0;32m     14\u001b[0m from pandas_datareader._utils import (RemoteDataError, SymbolWarning,\n",
      "\u001b[1;31mImportError\u001b[0m: cannot import name 'bytes_to_str'"
     ]
    }
   ],
   "source": [
    "import numpy as np\n",
    "import matplotlib.pyplot as plt\n",
    "import pandas as pd\n",
    "import seaborn as sns\n",
    "\n",
    "from seqlearn.hmm import MultinomialHMM\n",
    "from seqlearn.perceptron import StructuredPerceptron\n",
    "from scipy.special import logsumexp\n",
    "import lightgbm as lgb\n",
    "\n",
    "from IPython.display import clear_output\n",
    "from functions import *\n",
    "\n",
    "from sklearn.metrics import f1_score, accuracy_score"
   ]
  },
  {
   "cell_type": "code",
   "execution_count": 2,
   "metadata": {},
   "outputs": [
    {
     "ename": "RuntimeError",
     "evalue": "Please build the library first!",
     "output_type": "error",
     "traceback": [
      "\u001b[1;31m---------------------------------------------------------------------------\u001b[0m",
      "\u001b[1;31mRuntimeError\u001b[0m                              Traceback (most recent call last)",
      "\u001b[1;32m<ipython-input-2-4fe7f297fdfc>\u001b[0m in \u001b[0;36m<module>\u001b[1;34m\u001b[0m\n\u001b[1;32m----> 1\u001b[1;33m \u001b[1;32mfrom\u001b[0m \u001b[0mthundergbm\u001b[0m \u001b[1;32mimport\u001b[0m \u001b[0mTGBMClassifier\u001b[0m\u001b[1;33m\u001b[0m\u001b[0m\n\u001b[0m",
      "\u001b[1;32mC:\\ProgramData\\Anaconda3.5\\lib\\site-packages\\thundergbm\\__init__.py\u001b[0m in \u001b[0;36m<module>\u001b[1;34m\u001b[0m\n\u001b[0;32m      8\u001b[0m \"\"\"\n\u001b[0;32m      9\u001b[0m \u001b[0mname\u001b[0m \u001b[1;33m=\u001b[0m \u001b[1;34m\"thundergbm\"\u001b[0m\u001b[1;33m\u001b[0m\u001b[0m\n\u001b[1;32m---> 10\u001b[1;33m \u001b[1;32mfrom\u001b[0m \u001b[1;33m.\u001b[0m\u001b[0mthundergbm\u001b[0m \u001b[1;32mimport\u001b[0m \u001b[1;33m*\u001b[0m\u001b[1;33m\u001b[0m\u001b[0m\n\u001b[0m",
      "\u001b[1;32mC:\\ProgramData\\Anaconda3.5\\lib\\site-packages\\thundergbm\\thundergbm.py\u001b[0m in \u001b[0;36m<module>\u001b[1;34m\u001b[0m\n\u001b[0;32m     32\u001b[0m     \u001b[0mthundergbm\u001b[0m \u001b[1;33m=\u001b[0m \u001b[0mCDLL\u001b[0m\u001b[1;33m(\u001b[0m\u001b[0mlib_path\u001b[0m\u001b[1;33m)\u001b[0m\u001b[1;33m\u001b[0m\u001b[0m\n\u001b[0;32m     33\u001b[0m \u001b[1;32melse\u001b[0m\u001b[1;33m:\u001b[0m\u001b[1;33m\u001b[0m\u001b[0m\n\u001b[1;32m---> 34\u001b[1;33m     \u001b[1;32mraise\u001b[0m \u001b[0mRuntimeError\u001b[0m\u001b[1;33m(\u001b[0m\u001b[1;34m\"Please build the library first!\"\u001b[0m\u001b[1;33m)\u001b[0m\u001b[1;33m\u001b[0m\u001b[0m\n\u001b[0m\u001b[0;32m     35\u001b[0m \u001b[1;33m\u001b[0m\u001b[0m\n\u001b[0;32m     36\u001b[0m OBJECTIVE_TYPE = ['reg:linear', 'reg:logistic', 'binary:logistic',\n",
      "\u001b[1;31mRuntimeError\u001b[0m: Please build the library first!"
     ]
    }
   ],
   "source": [
    "from thundergbm import TGBMClassifier"
   ]
  },
  {
   "cell_type": "markdown",
   "metadata": {
    "pycharm": {
     "name": "#%% md\n"
    }
   },
   "source": [
    "Functions"
   ]
  },
  {
   "cell_type": "code",
   "execution_count": 3,
   "metadata": {},
   "outputs": [],
   "source": [
    "def classes(X,x):\n",
    "    for class_val,class_threshhold in enumerate(list(x)):\n",
    "        if class_threshhold >= 0:\n",
    "            X[(X > class_threshhold)] = class_val\n",
    "        else:\n",
    "            X[(X < class_threshhold)] = class_val\n",
    "    return X "
   ]
  },
  {
   "cell_type": "markdown",
   "metadata": {
    "pycharm": {
     "name": "#%% md\n"
    }
   },
   "source": [
    "Default Variables"
   ]
  },
  {
   "cell_type": "code",
   "execution_count": 8,
   "metadata": {},
   "outputs": [],
   "source": [
    "start = '2009-10-02'\n",
    "stop  = '2020-01-26'\n",
    "shift_window_of_days = 2\n",
    "symbols = process()"
   ]
  },
  {
   "cell_type": "markdown",
   "metadata": {
    "pycharm": {
     "name": "#%% md\n"
    }
   },
   "source": [
    "Main Loop"
   ]
  },
  {
   "cell_type": "code",
   "execution_count": 22,
   "metadata": {},
   "outputs": [
    {
     "name": "stdout",
     "output_type": "stream",
     "text": [
      "Wall time: 9min 31s\n"
     ]
    }
   ],
   "source": [
    "%%time\n",
    "accuracy = []\n",
    "classifier = MultinomialHMM(decode = 'bestfirst')\n",
    "for SYMBOL in symbols['symbols'].tolist():\n",
    "    try:\n",
    "#         print(SYMBOL)\n",
    "        X,y = retrieve_data(SYMBOL,start,stop,shift_window_of_days)\n",
    "    except:\n",
    "        pass\n",
    "    \n",
    "    production_test = y[-shift_window_of_days:]\n",
    "    production_features = X[-shift_window_of_days:]\n",
    "\n",
    "    X = X[:-shift_window_of_days]\n",
    "    y = y[:-shift_window_of_days]\n",
    "    \n",
    "    y = np.where(y >= 0,1,0)\n",
    "    \n",
    "    X_train, X_test, y_train, y_test = train_test_split(X,y,test_size =0.5,shuffle = False)\n",
    "    classifier.fit(X_train,y_train.ravel(),lengths= len(y_train))\n",
    "    \n",
    "    accuracy.append(accuracy_score(y_pred=np.round(classifier.predict(X_test)).astype(int),y_true=y_test))"
   ]
  },
  {
   "cell_type": "code",
   "execution_count": 21,
   "metadata": {},
   "outputs": [
    {
     "name": "stdout",
     "output_type": "stream",
     "text": [
      "0.37351778656126483 0.017786561264822136 0.01383399209486166 0.01383399209486166\n"
     ]
    }
   ],
   "source": [
    "#Classifier 505 \n",
    "print((np.array(accuracy) > 0.55).sum()/len(accuracy),(np.array(accuracy) > 0.6).sum()/len(accuracy),\n",
    "     (np.array(accuracy) > 0.65).sum()/len(accuracy),(np.array(accuracy) > 0.7).sum()/len(accuracy))"
   ]
  },
  {
   "cell_type": "code",
   "execution_count": 18,
   "metadata": {},
   "outputs": [
    {
     "name": "stdout",
     "output_type": "stream",
     "text": [
      "[0.5385208012326657, 0.5423728813559322, 0.5462249614791987, 0.5523059617547806, 0.5662847790507365, 0.5939907550077042, 0.5508474576271186, 1.0, 0.50231124807396, 0.46841294298921415, 0.5485362095531587, 0.5693374422187981, 0.5793528505392912, 0.5254237288135594, 0.5539291217257319, 0.5277349768875192, 0.5408320493066255, 1.0, 0.49691833590138673, 0.576271186440678, 0.5642673521850899, 0.5077041602465331, 0.5277349768875192, 0.5770416024653313, 0.5639445300462249, 0.5608628659476117, 0.5654853620955316, 0.5539291217257319, 0.5639445300462249, 0.8223140495867769, 0.573959938366718, 0.50231124807396, 0.5808936825885979, 0.551617873651772, 0.5323574730354391, 0.5570107858243452, 0.5755007704160247, 0.5477657935285054, 0.5485362095531587, 0.5608628659476117, 0.5277349768875192, 0.5562403697996918, 0.5408320493066255, 0.5755007704160247, 0.5523882896764253, 0.5724191063174114, 0.4899845916795069, 0.5493066255778121, 0.5654853620955316, 0.5446841294298922, 0.5354713313896987, 0.522342064714946, 0.5184899845916795, 0.576056338028169, 0.5701078582434514, 0.5485362095531587, 0.5446841294298922, 0.5716486902927581, 0.5500770416024653, 0.5647149460708782, 0.539291217257319, 0.5493066255778121, 0.5539291217257319, 0.50231124807396, 0.5400616332819723, 0.5300462249614792, 0.5701078582434514, 0.5531587057010786, 1.0, 0.5416024653312789, 0.4953775038520801, 0.5338983050847458, 0.5462249614791987, 0.539291217257319, 0.5254237288135594, 0.5400616332819723, 0.5608628659476117, 0.5570107858243452, 0.5462249614791987, 0.5770416024653313, 1.0, 0.5423728813559322, 0.4915254237288136, 0.5855161787365177, 0.524653312788906, 0.5338983050847458, 0.5127450980392156, 0.5315870570107858, 0.522342064714946, 0.5462249614791987, 0.5285053929121726, 0.5661157024793388, 0.5523882896764253, 0.5760869565217391, 0.5431432973805855, 0.5600924499229584, 0.5493066255778121, 0.4946070878274268, 0.5177195685670262, 0.4915254237288136, 0.5300462249614792, 0.5323854660347551, 0.5115562403697997, 0.512326656394453, 0.536979969183359, 0.5577812018489985, 0.5285053929121726, 0.5639445300462249, 0.5647149460708782, 0.5585516178736518, 0.5338983050847458, 0.5357142857142857, 0.5546995377503852, 0.5692307692307692, 0.5824345146379045, 0.5523882896764253, 0.5508474576271186, 0.5354391371340523, 0.5439137134052389, 0.536979969183359, 0.536979969183359, 0.5077041602465331, 0.5100154083204931, 0.5785824345146379, 0.5454545454545454, 0.5785824345146379, 0.5400616332819723, 0.6, 0.5577812018489985, 0.4789915966386555, 0.5477657935285054, 0.5446841294298922, 0.5377503852080123, 0.514637904468413, 0.5608628659476117, 0.5508474576271186, 0.5531587057010786, 0.5308166409861325, 0.5485362095531587, 0.5315870570107858, 0.514637904468413, 0.48228043143297383, 0.5229257641921398, 0.5685670261941448, 0.5261941448382126, 0.5053929121725732, 0.5100154083204931, 0.4953775038520801, 0.5510522213561965, 0.5338983050847458, 0.5423728813559322, 0.5485362095531587, 0.42592592592592593, 0.5847457627118644, 0.5539291217257319, 0.5645424836601307, 0.5130970724191063, 0.5308166409861325, 0.5508474576271186, 0.524653312788906, 0.5323574730354391, 0.539291217257319, 0.5485362095531587, 0.5531587057010786, 0.5508474576271186, 0.5462249614791987, 0.522342064714946, 0.559322033898305, 0.50231124807396, 0.561633281972265, 0.5662557781201849, 0.5431432973805855, 0.5416666666666666, 0.5462249614791987, 0.5500770416024653, 0.5685670261941448, 0.5847457627118644, 0.5570107858243452, 0.5385208012326657, 0.5469953775038521, 0.5577812018489985, 0.5107858243451464, 0.5416024653312789, 0.5511892450879007, 0.5254237288135594, 0.5285053929121726, 0.5285053929121726, 0.559322033898305, 0.5315870570107858, 0.5418118466898955, 0.5508474576271186, 0.5570107858243452, 0.56282722513089, 0.5292758089368259, 0.5192604006163328, 0.5338983050847458, 0.5231124807395994, 0.5815768930523029, 0.5401785714285714, 0.5423406279733587, 0.45045045045045046, 0.44545454545454544, 0.5030816640986132, 0.4861325115562404, 0.4938366718027735, 0.5600924499229584, 0.5670261941448382, 0.5493066255778121, 0.49768875192604006, 0.5508474576271186, 0.49437229437229435, 0.536979969183359, 0.5061633281972265, 0.5731895223420647, 0.5816640986132512, 0.4699537750385208, 0.5107858243451464, 0.5231124807395994, 0.49691833590138673, 0.5200308166409862, 0.5015408320493067, 0.539291217257319, 0.536979969183359, 0.5452103849597135, 0.551617873651772, 0.5115562403697997, 0.5354391371340523, 0.49229583975346686, 0.5381750465549349, 0.5636363636363636, 0.5315870570107858, 0.5523882896764253, 0.5608628659476117, 0.5801232665639445, 0.5400616332819723, 0.5231124807395994, 1.0, 0.5624036979969184, 0.5469953775038521, 0.536979969183359, 0.5588499550763701, 0.5523882896764253, 0.5855161787365177, 0.5673758865248227, 0.5685670261941448, 0.5408320493066255, 0.5122549019607843, 0.5454545454545454, 0.5446841294298922, 0.5515548281505729, 0.516366612111293, 0.5323574730354391, 0.5354391371340523, 0.5546995377503852, 0.5731895223420647, 0.5639445300462249, 0.5261941448382126, 0.5600924499229584, 0.570414201183432, 0.5539291217257319, 0.5285053929121726, 0.5693374422187981, 0.45839753466872113, 0.5292758089368259, 0.5500770416024653, 0.4768875192604006, 0.539291217257319, 0.5508474576271186, 0.5231124807395994, 0.513911620294599, 0.5446841294298922, 0.5908319185059423, 0.5354391371340523, 0.5130970724191063, 0.48756660746003555, 0.5570107858243452, 0.5261941448382126, 0.4930313588850174, 0.5308166409861325, 0.5038520801232665, 0.5670261941448382, 0.5408320493066255, 0.5523882896764253, 0.5384615384615384, 0.5331278890600925, 0.5215716486902927, 0.5546995377503852, 0.5346687211093991, 0.559322033898305, 0.5454545454545454, 0.5200308166409862, 0.5631741140215717, 0.5308166409861325, 0.576271186440678, 0.5277349768875192, 0.5469953775038521, 0.5183374083129584, 0.5315870570107858, 0.48921417565485364, 0.49075500770416025, 0.5351851851851852, 0.5639445300462249, 0.5462249614791987, 0.5778120184899846, 0.5192604006163328, 0.5477657935285054, 0.5916795069337443, 0.5485362095531587, 0.5716486902927581, 0.5824345146379045, 0.5046224961479199, 0.5431432973805855, 0.5385208012326657, 0.5500770416024653, 0.5893682588597843, 0.5294117647058824, 0.551617873651772, 0.5208012326656395, 0.5716486902927581, 0.5755007704160247, 0.5384615384615384, 0.5016366612111293, 0.539291217257319, 0.5315870570107858, 0.5747303543913713, 0.5270049099836334, 0.5508474576271186, 0.5924499229583975, 0.4930662557781202, 0.5731895223420647, 0.47842835130970723, 0.5385208012326657, 0.5400616332819723, 0.5354391371340523, 0.48936170212765956, 0.5415162454873647, 0.5475330926594465, 0.5970724191063174, 0.5132508833922261, 0.5385208012326657, 0.5693374422187981, 0.4713584288052373, 0.4930662557781202, 0.5416024653312789, 0.5331278890600925, 0.5454545454545454, 0.5980392156862745, 0.535673839184598, 0.5161787365177196, 0.5007704160246533, 0.4328968903436989, 0.5531587057010786, 0.5354391371340523, 0.4915254237288136, 0.5508474576271186, 0.5215716486902927, 0.5208012326656395, 0.5570107858243452, 0.42391304347826086, 0.551617873651772, 0.5362095531587057, 0.5654853620955316, 0.6277472527472527, 0.5679442508710801, 0.5292758089368259, 0.5331278890600925, 0.5477657935285054, 0.5638297872340425, 0.5016366612111293, 0.5331278890600925, 0.5423728813559322, 0.5448979591836735, 0.5693374422187981, 0.5046224961479199, 0.5677966101694916, 0.5215716486902927, 0.5377503852080123, 0.5562403697996918, 0.5439137134052389, 0.5631741140215717, 0.559322033898305, 0.5500770416024653, 0.5531587057010786, 0.5385208012326657, 0.5600924499229584, 0.5254237288135594, 0.5368916797488226, 0.5269645608628659, 0.5285053929121726, 0.539291217257319, 0.5084745762711864, 0.5446841294298922, 0.5508474576271186, 0.573959938366718, 0.536979969183359, 0.4953775038520801, 0.5323574730354391, 0.5855161787365177, 0.588597842835131, 0.5661764705882353, 0.5423728813559322, 0.5724191063174114, 0.5546995377503852, 0.5469953775038521, 0.5300462249614792, 0.5670261941448382, 0.559322033898305, 0.5570107858243452, 0.48073959938366717, 0.5493066255778121, 0.5161787365177196, 0.5462249614791987, 0.582983193277311, 0.5462249614791987, 0.5323574730354391, 0.5508474576271186, 0.5308166409861325, 0.5477657935285054, 0.5639445300462249, 0.5323574730354391, 0.5416024653312789, 0.5631741140215717, 0.5308166409861325, 0.5588235294117647, 0.5701078582434514, 0.5416024653312789, 0.447178002894356, 0.5916795069337443, 0.5546995377503852, 0.5416024653312789, 0.536979969183359, 0.5570107858243452, 0.5208012326656395, 0.5408320493066255, 0.5546995377503852, 0.48117839607201307, 0.5624036979969184, 0.5662557781201849, 0.5323574730354391, 0.5392156862745098, 0.5608628659476117, 0.5508474576271186, 0.5362095531587057, 0.4930662557781202, 0.5523882896764253, 0.5261941448382126, 0.5523882896764253, 0.5215716486902927, 0.5462249614791987, 0.5323574730354391, 0.2730806608357629, 0.5755007704160247, 0.536979969183359, 0.479539641943734, 0.5608628659476117, 0.5454545454545454, 0.5585516178736518, 0.5408320493066255, 0.5038520801232665, 0.47294938917975565, 0.5323574730354391, 0.5254237288135594, 0.5469953775038521, 0.5446841294298922, 0.5292758089368259, 0.5508474576271186, 0.5323574730354391, 0.5577812018489985, 0.5431432973805855, 0.5439137134052389, 0.5523882896764253, 0.5477657935285054, 0.5701078582434514, 0.5787037037037037, 0.536979969183359, 0.4815100154083205, 0.49922958397534667, 0.5793528505392912, 0.524653312788906, 0.47380585516178736, 0.5546995377503852, 0.5030816640986132, 0.5130970724191063, 0.5338983050847458, 0.5816640986132512, 0.5570107858243452, 0.6016949152542372, 0.512326656394453, 0.5385208012326657, 0.49691833590138673, 0.5362095531587057, 0.5103806228373703, 0.512326656394453, 0.5184899845916795, 0.514637904468413, 0.559322033898305, 0.4938366718027735, 0.5970724191063174, 0.5154083204930663, 0.5416024653312789, 0.5777351247600768, 0.5539291217257319, 0.5508474576271186, 0.5300462249614792, 0.5400616332819723, 0.590443686006826]\n"
     ]
    }
   ],
   "source": [
    "print(accuracy)"
   ]
  },
  {
   "cell_type": "code",
   "execution_count": null,
   "metadata": {},
   "outputs": [],
   "source": [
    "#     X_train = pd.concat((X_train,pd.Series(classifier.predict(X_train))),axis=1)\n",
    "#     X_test = pd.concat((X_test.reset_index(drop=True),pd.Series(classifier.predict(X_test))),axis=1)\n",
    "    \n",
    "#     ttr, tte, y_train, y_test = train_test_split(X,y,test_size =0.2,shuffle = False)\n",
    "#     LGBR = lgb.LGBMRegressor()\n",
    "#     LGBR.fit(X_train,y_train.ravel())\n",
    "#     LGBR.predict(X_test"
   ]
  },
  {
   "cell_type": "code",
   "execution_count": 73,
   "metadata": {},
   "outputs": [
    {
     "data": {
      "text/plain": [
       "array([2.02930236, 2.28761884, 2.28761884, 2.11020478, 3.04150662])"
      ]
     },
     "execution_count": 73,
     "metadata": {},
     "output_type": "execute_result"
    }
   ],
   "source": [
    "shift_window_of_days = 5\n",
    "X,y = retrieve_data('VOO',start,stop,shift_window_of_days)\n",
    "\n",
    "production_test = y[-shift_window_of_days:]\n",
    "production_features = X[-shift_window_of_days:]\n",
    "y_copy = y[:-shift_window_of_days]\n",
    "y = classes(y,[-25,-15,-5,-10,5,25,15,10])\n",
    "\n",
    "tX = X[:-shift_window_of_days]\n",
    "ty = y[:-shift_window_of_days]\n",
    "\n",
    "classifier = MultinomialHMM(decode = 'bestfirst')\n",
    "classifier.fit(tX,ty,lengths= len(ty))\n",
    "X = pd.concat((tX,pd.Series(classifier.predict(tX))),axis=1)\n",
    "production_features = pd.concat((production_features.reset_index(drop=True),pd.Series(classifier.predict(production_features))),axis=1)\n",
    "\n",
    "# ttr, tte, y_train, y_test = train_test_split(X,y,test_size =0.2,shuffle = False)\n",
    "LGBR = lgb.LGBMRegressor()\n",
    "LGBR.fit(X,y_copy)\n",
    "LGBR.predict(production_features)"
   ]
  },
  {
   "cell_type": "code",
   "execution_count": 19,
   "metadata": {},
   "outputs": [],
   "source": [
    "SYMBOL = 'VOO'\n",
    "\n",
    "X,y = retrieve_data(SYMBOL,start,stop,shift_window_of_days)\n",
    "train_y = classes(y,[-25,-15,-5,-10,5,25,15,10])\n",
    "production_test = y[-shift_window_of_days:]\n",
    "production_features = X[-shift_window_of_days:]\n",
    "\n",
    "X = X[:-shift_window_of_days]\n",
    "y = y[:-shift_window_of_days]\n",
    "train_y = train_y[:-shift_window_of_days]\n",
    "# train_y = pd.DataFrame(np.where(y>=0,1,0))\n",
    "\n",
    "X_train, X_test, y_train, y_test = train_test_split(X, train_y, test_size=0.2, shuffle =False)"
   ]
  },
  {
   "cell_type": "code",
   "execution_count": 20,
   "metadata": {},
   "outputs": [
    {
     "data": {
      "text/plain": [
       "MultinomialHMM(alpha=0.01, decode='bestfirst')"
      ]
     },
     "execution_count": 20,
     "metadata": {},
     "output_type": "execute_result"
    }
   ],
   "source": [
    "classifier.fit(X,y,lengths= len(y))"
   ]
  },
  {
   "cell_type": "code",
   "execution_count": 21,
   "metadata": {
    "pycharm": {
     "name": "#%%\n"
    }
   },
   "outputs": [
    {
     "data": {
      "text/plain": [
       "array([4., 4., 4., 4., 4.])"
      ]
     },
     "execution_count": 21,
     "metadata": {},
     "output_type": "execute_result"
    }
   ],
   "source": [
    "classifier.predict(production_features) "
   ]
  }
 ],
 "metadata": {
  "kernelspec": {
   "display_name": "Python 3",
   "language": "python",
   "name": "python3"
  },
  "language_info": {
   "codemirror_mode": {
    "name": "ipython",
    "version": 3
   },
   "file_extension": ".py",
   "mimetype": "text/x-python",
   "name": "python",
   "nbconvert_exporter": "python",
   "pygments_lexer": "ipython3",
   "version": "3.7.7"
  }
 },
 "nbformat": 4,
 "nbformat_minor": 4
}
