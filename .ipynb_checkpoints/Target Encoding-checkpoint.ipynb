{
 "cells": [
  {
   "cell_type": "code",
   "execution_count": 56,
   "metadata": {},
   "outputs": [],
   "source": [
    "#General imports\n",
    "import numpy as np\n",
    "import pandas as pd \n",
    "import os\n",
    "from IPython.display import clear_output\n",
    "from functions import *\n",
    "\n",
    "#Boosters for Training\n",
    "import keras\n",
    "import lightgbm as lgb\n",
    "\n",
    "#Evaluation and Model Setup\n",
    "from sklearn.model_selection import StratifiedKFold,train_test_split\n",
    "from sklearn.metrics import mean_absolute_error,mean_squared_error,accuracy_score\n",
    "import category_encoders as ce\n",
    "\n",
    "#Keras Stuff\n",
    "from keras.callbacks import ModelCheckpoint\n",
    "from keras.models import Sequential\n",
    "from keras.layers import Dense, Dropout, Activation,Flatten,GRU,BatchNormalization\n",
    "from keras.optimizers import SGD,Nadam\n",
    "\n",
    "clear_output()"
   ]
  },
  {
   "cell_type": "code",
   "execution_count": 57,
   "metadata": {},
   "outputs": [],
   "source": [
    "#Get all S&P 500\n",
    "symbol_dataframe = process()"
   ]
  },
  {
   "cell_type": "code",
   "execution_count": 50,
   "metadata": {},
   "outputs": [],
   "source": [
    "# Load Data\n",
    "start = '2017-10-02'\n",
    "stop  = '2019-01-13'\n",
    "SYMBOL = 'FLO'\n",
    "Industry= False\n",
    "shift_window_of_days = 60\n",
    "\n",
    "X,y = retrieve_data(SYMBOL,start,stop,shift_window_of_days)\n",
    "\n",
    "production_test = y[-shift_window_of_days:]\n",
    "production_features = X[-shift_window_of_days:]\n",
    "\n",
    "X = X[:-shift_window_of_days]\n",
    "y = y[:-shift_window_of_days]\n",
    "\n",
    "train_y = pd.DataFrame(np.where(y>=0,1,0))\n",
    "\n",
    "X_train, X_test, y_train, y_test = train_test_split(X, train_y, test_size=0.20, shuffle =False)"
   ]
  },
  {
   "cell_type": "code",
   "execution_count": 51,
   "metadata": {},
   "outputs": [],
   "source": [
    "cat_feat_to_encode = X_train.columns.tolist();  smoothing=0.20\n",
    "\n",
    "oof = pd.DataFrame([])\n",
    "\n",
    "for tr_idx, oof_idx in StratifiedKFold(n_splits=5, random_state=2020, shuffle=True).split(X_train, y_train):\n",
    "    ce_target_encoder = ce.TargetEncoder(cols = cat_feat_to_encode, smoothing=smoothing)\n",
    "    ce_target_encoder.fit(X_train.iloc[tr_idx, :], y_train.iloc[tr_idx])\n",
    "    oof = oof.append(ce_target_encoder.transform(X_train.iloc[oof_idx, :]), ignore_index=False)\n",
    "ce_target_encoder = ce.TargetEncoder(cols = cat_feat_to_encode, smoothing=smoothing)\n",
    "ce_target_encoder.fit(X_train, y_train);  X_train = pd.concat((oof.sort_index(),X_train),axis=1); \n",
    "X_test = pd.concat((X_test,ce_target_encoder.transform(X_test.copy())),axis=1)"
   ]
  },
  {
   "cell_type": "code",
   "execution_count": 52,
   "metadata": {},
   "outputs": [],
   "source": [
    "mcp = ModelCheckpoint('C:/Users/Elad/stock_prediction', monitor = 'val_acc',save_best_only=True, save_weights_only=False)\n",
    "\n",
    "# model = Sequential()\n",
    "# model.add(Dense(units=24,input_shape = (X_train.shape[1],),activation = 'relu' ))\n",
    "# model.add(Dense(units=48,activation ='relu' ))\n",
    "# model.add(Dense(units=12,activation ='relu' ))\n",
    "# model.add(Dense(units=6,activation ='relu' ))\n",
    "# model.add(Dense(units=1,activation='sigmoid'))\n",
    "model = Sequential()\n",
    "model.add(Dense(units=24,input_shape = (X_train.shape[1],),activation = 'relu' ))\n",
    "model.add(Dense(units=48,activation ='relu' ))\n",
    "model.add(Dense(units=12,activation ='relu' ))\n",
    "model.add(Dense(units=6,activation ='relu' ))\n",
    "model.add(Dense(units=1,activation='sigmoid'))\n",
    "# model.compile(loss='mse', optimizer='adam')\n",
    "model.compile(loss='binary_crossentropy', optimizer='adam')\n",
    "clear_output()"
   ]
  },
  {
   "cell_type": "code",
   "execution_count": null,
   "metadata": {},
   "outputs": [],
   "source": [
    "model.fit(X_train, y_train,epochs=100,verbose=0)"
   ]
  },
  {
   "cell_type": "code",
   "execution_count": null,
   "metadata": {},
   "outputs": [],
   "source": [
    "(np.round(model.predict(X_test)) == y_test).sum()/len(y_test)"
   ]
  },
  {
   "cell_type": "code",
   "execution_count": 22,
   "metadata": {},
   "outputs": [
    {
     "data": {
      "text/html": [
       "<div>\n",
       "<style scoped>\n",
       "    .dataframe tbody tr th:only-of-type {\n",
       "        vertical-align: middle;\n",
       "    }\n",
       "\n",
       "    .dataframe tbody tr th {\n",
       "        vertical-align: top;\n",
       "    }\n",
       "\n",
       "    .dataframe thead th {\n",
       "        text-align: right;\n",
       "    }\n",
       "</style>\n",
       "<table border=\"1\" class=\"dataframe\">\n",
       "  <thead>\n",
       "    <tr style=\"text-align: right;\">\n",
       "      <th></th>\n",
       "      <th>symbols</th>\n",
       "      <th>Company_Name</th>\n",
       "      <th>Industry</th>\n",
       "    </tr>\n",
       "  </thead>\n",
       "  <tbody>\n",
       "    <tr>\n",
       "      <th>0</th>\n",
       "      <td>MMM</td>\n",
       "      <td>3M Company</td>\n",
       "      <td>Industrials</td>\n",
       "    </tr>\n",
       "    <tr>\n",
       "      <th>1</th>\n",
       "      <td>AOS</td>\n",
       "      <td>A.O. Smith Corp</td>\n",
       "      <td>Industrials</td>\n",
       "    </tr>\n",
       "  </tbody>\n",
       "</table>\n",
       "</div>"
      ],
      "text/plain": [
       "  symbols     Company_Name     Industry\n",
       "0     MMM       3M Company  Industrials\n",
       "1     AOS  A.O. Smith Corp  Industrials"
      ]
     },
     "execution_count": 22,
     "metadata": {},
     "output_type": "execute_result"
    }
   ],
   "source": [
    "symbol_dataframe.head(2)"
   ]
  },
  {
   "cell_type": "code",
   "execution_count": 58,
   "metadata": {},
   "outputs": [],
   "source": [
    "model = lgb.LGBMRegressor()"
   ]
  },
  {
   "cell_type": "code",
   "execution_count": 46,
   "metadata": {},
   "outputs": [],
   "source": [
    "# With Diff statistic\n",
    "# Industrials 0.5933130699088146\n",
    "# Health Care 0.6208037825059101\n",
    "# Information Technology 0.6659674358205974\n",
    "# Communication Services 0.6912165848336062\n",
    "# Consumer Discretionary 0.5914228723404256\n",
    "# Utilities 0.7163120567375886\n",
    "\n"
   ]
  },
  {
   "cell_type": "code",
   "execution_count": 59,
   "metadata": {},
   "outputs": [
    {
     "ename": "KeyboardInterrupt",
     "evalue": "",
     "output_type": "error",
     "traceback": [
      "\u001b[1;31m---------------------------------------------------------------------------\u001b[0m",
      "\u001b[1;31mKeyboardInterrupt\u001b[0m                         Traceback (most recent call last)",
      "\u001b[1;32m<ipython-input-59-67a06cbfae91>\u001b[0m in \u001b[0;36m<module>\u001b[1;34m\u001b[0m\n\u001b[0;32m     35\u001b[0m         \u001b[0mX_test\u001b[0m \u001b[1;33m=\u001b[0m \u001b[0mpd\u001b[0m\u001b[1;33m.\u001b[0m\u001b[0mconcat\u001b[0m\u001b[1;33m(\u001b[0m\u001b[1;33m(\u001b[0m\u001b[0mX_test\u001b[0m\u001b[1;33m,\u001b[0m\u001b[0mce_target_encoder\u001b[0m\u001b[1;33m.\u001b[0m\u001b[0mtransform\u001b[0m\u001b[1;33m(\u001b[0m\u001b[0mX_test\u001b[0m\u001b[1;33m.\u001b[0m\u001b[0mcopy\u001b[0m\u001b[1;33m(\u001b[0m\u001b[1;33m)\u001b[0m\u001b[1;33m)\u001b[0m\u001b[1;33m)\u001b[0m\u001b[1;33m,\u001b[0m\u001b[0maxis\u001b[0m\u001b[1;33m=\u001b[0m\u001b[1;36m1\u001b[0m\u001b[1;33m)\u001b[0m\u001b[1;33m\u001b[0m\u001b[0m\n\u001b[0;32m     36\u001b[0m \u001b[1;33m\u001b[0m\u001b[0m\n\u001b[1;32m---> 37\u001b[1;33m         \u001b[0mmodel\u001b[0m\u001b[1;33m.\u001b[0m\u001b[0mfit\u001b[0m\u001b[1;33m(\u001b[0m\u001b[0mX_train\u001b[0m\u001b[1;33m,\u001b[0m \u001b[0my_train\u001b[0m\u001b[1;33m,\u001b[0m\u001b[0mverbose\u001b[0m\u001b[1;33m=\u001b[0m\u001b[1;36m0\u001b[0m\u001b[1;33m)\u001b[0m\u001b[1;33m\u001b[0m\u001b[0m\n\u001b[0m\u001b[0;32m     38\u001b[0m \u001b[1;33m\u001b[0m\u001b[0m\n\u001b[0;32m     39\u001b[0m         \u001b[0mcategorical_accuracy\u001b[0m\u001b[1;33m.\u001b[0m\u001b[0mappend\u001b[0m\u001b[1;33m(\u001b[0m\u001b[0maccuracy_score\u001b[0m\u001b[1;33m(\u001b[0m\u001b[0my_test\u001b[0m\u001b[1;33m.\u001b[0m\u001b[0mvalues\u001b[0m\u001b[1;33m,\u001b[0m\u001b[0mnp\u001b[0m\u001b[1;33m.\u001b[0m\u001b[0mround\u001b[0m\u001b[1;33m(\u001b[0m\u001b[0mmodel\u001b[0m\u001b[1;33m.\u001b[0m\u001b[0mpredict\u001b[0m\u001b[1;33m(\u001b[0m\u001b[0mX_test\u001b[0m\u001b[1;33m)\u001b[0m\u001b[1;33m)\u001b[0m\u001b[1;33m)\u001b[0m\u001b[1;33m)\u001b[0m\u001b[1;33m\u001b[0m\u001b[0m\n",
      "\u001b[1;32mC:\\ProgramData\\Anaconda3.5\\lib\\site-packages\\lightgbm\\sklearn.py\u001b[0m in \u001b[0;36mfit\u001b[1;34m(self, X, y, sample_weight, init_score, eval_set, eval_names, eval_sample_weight, eval_init_score, eval_metric, early_stopping_rounds, verbose, feature_name, categorical_feature, callbacks)\u001b[0m\n\u001b[0;32m    683\u001b[0m                                        \u001b[0mverbose\u001b[0m\u001b[1;33m=\u001b[0m\u001b[0mverbose\u001b[0m\u001b[1;33m,\u001b[0m \u001b[0mfeature_name\u001b[0m\u001b[1;33m=\u001b[0m\u001b[0mfeature_name\u001b[0m\u001b[1;33m,\u001b[0m\u001b[1;33m\u001b[0m\u001b[0m\n\u001b[0;32m    684\u001b[0m                                        \u001b[0mcategorical_feature\u001b[0m\u001b[1;33m=\u001b[0m\u001b[0mcategorical_feature\u001b[0m\u001b[1;33m,\u001b[0m\u001b[1;33m\u001b[0m\u001b[0m\n\u001b[1;32m--> 685\u001b[1;33m                                        callbacks=callbacks)\n\u001b[0m\u001b[0;32m    686\u001b[0m         \u001b[1;32mreturn\u001b[0m \u001b[0mself\u001b[0m\u001b[1;33m\u001b[0m\u001b[0m\n\u001b[0;32m    687\u001b[0m \u001b[1;33m\u001b[0m\u001b[0m\n",
      "\u001b[1;32mC:\\ProgramData\\Anaconda3.5\\lib\\site-packages\\lightgbm\\sklearn.py\u001b[0m in \u001b[0;36mfit\u001b[1;34m(self, X, y, sample_weight, init_score, group, eval_set, eval_names, eval_sample_weight, eval_class_weight, eval_init_score, eval_group, eval_metric, early_stopping_rounds, verbose, feature_name, categorical_feature, callbacks)\u001b[0m\n\u001b[0;32m    542\u001b[0m                               \u001b[0mverbose_eval\u001b[0m\u001b[1;33m=\u001b[0m\u001b[0mverbose\u001b[0m\u001b[1;33m,\u001b[0m \u001b[0mfeature_name\u001b[0m\u001b[1;33m=\u001b[0m\u001b[0mfeature_name\u001b[0m\u001b[1;33m,\u001b[0m\u001b[1;33m\u001b[0m\u001b[0m\n\u001b[0;32m    543\u001b[0m                               \u001b[0mcategorical_feature\u001b[0m\u001b[1;33m=\u001b[0m\u001b[0mcategorical_feature\u001b[0m\u001b[1;33m,\u001b[0m\u001b[1;33m\u001b[0m\u001b[0m\n\u001b[1;32m--> 544\u001b[1;33m                               callbacks=callbacks)\n\u001b[0m\u001b[0;32m    545\u001b[0m \u001b[1;33m\u001b[0m\u001b[0m\n\u001b[0;32m    546\u001b[0m         \u001b[1;32mif\u001b[0m \u001b[0mevals_result\u001b[0m\u001b[1;33m:\u001b[0m\u001b[1;33m\u001b[0m\u001b[0m\n",
      "\u001b[1;32mC:\\ProgramData\\Anaconda3.5\\lib\\site-packages\\lightgbm\\engine.py\u001b[0m in \u001b[0;36mtrain\u001b[1;34m(params, train_set, num_boost_round, valid_sets, valid_names, fobj, feval, init_model, feature_name, categorical_feature, early_stopping_rounds, evals_result, verbose_eval, learning_rates, keep_training_booster, callbacks)\u001b[0m\n\u001b[0;32m    240\u001b[0m         \u001b[0mbooster\u001b[0m\u001b[1;33m.\u001b[0m\u001b[0mbest_score\u001b[0m\u001b[1;33m[\u001b[0m\u001b[0mdataset_name\u001b[0m\u001b[1;33m]\u001b[0m\u001b[1;33m[\u001b[0m\u001b[0meval_name\u001b[0m\u001b[1;33m]\u001b[0m \u001b[1;33m=\u001b[0m \u001b[0mscore\u001b[0m\u001b[1;33m\u001b[0m\u001b[0m\n\u001b[0;32m    241\u001b[0m     \u001b[1;32mif\u001b[0m \u001b[1;32mnot\u001b[0m \u001b[0mkeep_training_booster\u001b[0m\u001b[1;33m:\u001b[0m\u001b[1;33m\u001b[0m\u001b[0m\n\u001b[1;32m--> 242\u001b[1;33m         \u001b[0mbooster\u001b[0m\u001b[1;33m.\u001b[0m\u001b[0mmodel_from_string\u001b[0m\u001b[1;33m(\u001b[0m\u001b[0mbooster\u001b[0m\u001b[1;33m.\u001b[0m\u001b[0mmodel_to_string\u001b[0m\u001b[1;33m(\u001b[0m\u001b[1;33m)\u001b[0m\u001b[1;33m,\u001b[0m \u001b[1;32mFalse\u001b[0m\u001b[1;33m)\u001b[0m\u001b[1;33m.\u001b[0m\u001b[0mfree_dataset\u001b[0m\u001b[1;33m(\u001b[0m\u001b[1;33m)\u001b[0m\u001b[1;33m\u001b[0m\u001b[0m\n\u001b[0m\u001b[0;32m    243\u001b[0m     \u001b[1;32mreturn\u001b[0m \u001b[0mbooster\u001b[0m\u001b[1;33m\u001b[0m\u001b[0m\n\u001b[0;32m    244\u001b[0m \u001b[1;33m\u001b[0m\u001b[0m\n",
      "\u001b[1;32mC:\\ProgramData\\Anaconda3.5\\lib\\site-packages\\lightgbm\\basic.py\u001b[0m in \u001b[0;36mmodel_from_string\u001b[1;34m(self, model_str, verbose)\u001b[0m\n\u001b[0;32m   2052\u001b[0m             \u001b[0mc_str\u001b[0m\u001b[1;33m(\u001b[0m\u001b[0mmodel_str\u001b[0m\u001b[1;33m)\u001b[0m\u001b[1;33m,\u001b[0m\u001b[1;33m\u001b[0m\u001b[0m\n\u001b[0;32m   2053\u001b[0m             \u001b[0mctypes\u001b[0m\u001b[1;33m.\u001b[0m\u001b[0mbyref\u001b[0m\u001b[1;33m(\u001b[0m\u001b[0mout_num_iterations\u001b[0m\u001b[1;33m)\u001b[0m\u001b[1;33m,\u001b[0m\u001b[1;33m\u001b[0m\u001b[0m\n\u001b[1;32m-> 2054\u001b[1;33m             ctypes.byref(self.handle)))\n\u001b[0m\u001b[0;32m   2055\u001b[0m         \u001b[0mout_num_class\u001b[0m \u001b[1;33m=\u001b[0m \u001b[0mctypes\u001b[0m\u001b[1;33m.\u001b[0m\u001b[0mc_int\u001b[0m\u001b[1;33m(\u001b[0m\u001b[1;36m0\u001b[0m\u001b[1;33m)\u001b[0m\u001b[1;33m\u001b[0m\u001b[0m\n\u001b[0;32m   2056\u001b[0m         _safe_call(_LIB.LGBM_BoosterGetNumClasses(\n",
      "\u001b[1;31mKeyboardInterrupt\u001b[0m: "
     ]
    }
   ],
   "source": [
    "from sklearn.metrics import accuracy_score\n",
    "# categorical_accuracy = []\n",
    "for industry in symbol_dataframe['Industry'].unique().tolist():\n",
    "    categorical_accuracy = []\n",
    "    for symbol in list(symbol_dataframe.loc[symbol_dataframe['Industry']==industry,\"symbols\"]):\n",
    "        # Load Data\n",
    "        start = '2016/12/31'\n",
    "        stop  = '2020/1/15'\n",
    "        SYMBOL = symbol\n",
    "        Industry= False\n",
    "        shift_window_of_days = 60\n",
    "\n",
    "        X,y = retrieve_data(SYMBOL,start,stop,shift_window_of_days)\n",
    "\n",
    "        production_test = y[-shift_window_of_days:]\n",
    "        production_features = X[-shift_window_of_days:]\n",
    "\n",
    "        X = X[:-shift_window_of_days]\n",
    "        y = y[:-shift_window_of_days]\n",
    "\n",
    "        train_y = pd.DataFrame(np.where(y>=0,1,0))\n",
    "\n",
    "        X_train, X_test, y_train, y_test = train_test_split(X, train_y, test_size=0.20, shuffle =False)\n",
    "\n",
    "        cat_feat_to_encode = X_train.columns.tolist();  smoothing=0.20\n",
    "\n",
    "        oof = pd.DataFrame([])\n",
    "\n",
    "        for tr_idx, oof_idx in StratifiedKFold(n_splits=5, random_state=2020, shuffle=True).split(X_train, y_train):\n",
    "            ce_target_encoder = ce.TargetEncoder(cols = cat_feat_to_encode, smoothing=smoothing)\n",
    "            ce_target_encoder.fit(X_train.iloc[tr_idx, :], y_train.iloc[tr_idx])\n",
    "            oof = oof.append(ce_target_encoder.transform(X_train.iloc[oof_idx, :]), ignore_index=False)\n",
    "        ce_target_encoder = ce.TargetEncoder(cols = cat_feat_to_encode, smoothing=smoothing)\n",
    "        ce_target_encoder.fit(X_train, y_train);  X_train = pd.concat((oof.sort_index(),X_train),axis=1); \n",
    "        X_test = pd.concat((X_test,ce_target_encoder.transform(X_test.copy())),axis=1)\n",
    "\n",
    "        model.fit(X_train, y_train,verbose=0)\n",
    "\n",
    "        categorical_accuracy.append(accuracy_score(y_test.values,np.round(model.predict(X_test))))\n",
    "    print(industry,np.mean(categorical_accuracy))"
   ]
  },
  {
   "cell_type": "code",
   "execution_count": 44,
   "metadata": {},
   "outputs": [
    {
     "name": "stdout",
     "output_type": "stream",
     "text": [
      "Utilities 0.5933130699088146\n"
     ]
    }
   ],
   "source": [
    "from sklearn.metrics import accuracy_score\n",
    "categorical_accuracy = []\n",
    "for symbol in list(symbol_dataframe.loc[symbol_dataframe['Industry']==symbol_dataframe['Industry'].unique().tolist()[0],\"symbols\"]):\n",
    "    # Load Data\n",
    "    start = '2016/12/31'\n",
    "    stop  = '2020/1/15'\n",
    "    SYMBOL = symbol\n",
    "    Industry= False\n",
    "    shift_window_of_days = 60\n",
    "\n",
    "    X,y = retrieve_data(SYMBOL,start,stop,shift_window_of_days)\n",
    "\n",
    "    production_test = y[-shift_window_of_days:]\n",
    "    production_features = X[-shift_window_of_days:]\n",
    "\n",
    "    X = X[:-shift_window_of_days]\n",
    "    y = y[:-shift_window_of_days]\n",
    "\n",
    "    train_y = pd.DataFrame(np.where(y>=0,1,0))\n",
    "\n",
    "    X_train, X_test, y_train, y_test = train_test_split(X, train_y, test_size=0.20, shuffle =False)\n",
    "\n",
    "    cat_feat_to_encode = X_train.columns.tolist();  smoothing=0.20\n",
    "\n",
    "    oof = pd.DataFrame([])\n",
    "\n",
    "    for tr_idx, oof_idx in StratifiedKFold(n_splits=5, random_state=2020, shuffle=True).split(X_train, y_train):\n",
    "        ce_target_encoder = ce.TargetEncoder(cols = cat_feat_to_encode, smoothing=smoothing)\n",
    "        ce_target_encoder.fit(X_train.iloc[tr_idx, :], y_train.iloc[tr_idx])\n",
    "        oof = oof.append(ce_target_encoder.transform(X_train.iloc[oof_idx, :]), ignore_index=False)\n",
    "    ce_target_encoder = ce.TargetEncoder(cols = cat_feat_to_encode, smoothing=smoothing)\n",
    "    ce_target_encoder.fit(X_train, y_train);  X_train = pd.concat((oof.sort_index(),X_train),axis=1); \n",
    "    X_test = pd.concat((X_test,ce_target_encoder.transform(X_test.copy())),axis=1)\n",
    "\n",
    "    model.fit(X_train, y_train,verbose=0)\n",
    "\n",
    "    categorical_accuracy.append(accuracy_score(y_test.values,np.round(model.predict(X_test))))\n",
    "print('Utilities',np.mean(categorical_accuracy))"
   ]
  }
 ],
 "metadata": {
  "kernelspec": {
   "display_name": "Python 3",
   "language": "python",
   "name": "python3"
  },
  "language_info": {
   "codemirror_mode": {
    "name": "ipython",
    "version": 3
   },
   "file_extension": ".py",
   "mimetype": "text/x-python",
   "name": "python",
   "nbconvert_exporter": "python",
   "pygments_lexer": "ipython3",
   "version": "3.7.7"
  }
 },
 "nbformat": 4,
 "nbformat_minor": 2
}
