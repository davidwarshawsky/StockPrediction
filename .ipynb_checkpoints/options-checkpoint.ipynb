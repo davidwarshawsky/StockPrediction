{
 "cells": [
  {
   "cell_type": "code",
   "execution_count": 4,
   "metadata": {},
   "outputs": [
    {
     "name": "stdout",
     "output_type": "stream",
     "text": [
      "['Canaccord Genuity' 'FBN Securities' 'Jefferies' 'Morgan Stanley'\n",
      " 'Oxen Group' 'PiperJaffray' 'Oppenheimer' 'UBS' 'Wedbush' 'Goldman Sachs'\n",
      " 'Morgan Keegan' 'Sterne Agee' 'Citigroup' 'Scotiabank' 'Hilliard Lyons'\n",
      " 'Crowell, Weedon & Co.' 'BMO Capital' 'JP Morgan' 'BTIG Research'\n",
      " 'Credit Suisse' 'Bank oferica' 'Deutsche Bank' 'Societe Generale'\n",
      " 'ISI Group' 'Raymond James' 'Bank of America' 'Phillip Securities'\n",
      " 'Stifel Nicolaus' 'Oracle Investment Research' 'Needham'\n",
      " 'Monness Crespi Hardt' 'Hudson Square' 'Barclays' 'Nomura'\n",
      " 'Avondale Partners' 'ABG Sundal Collier' 'Pacific Crest' 'Mizuho'\n",
      " 'Credit Agricole' 'Stifel' 'BGC Financial' 'Monness, Crespi, Hardt'\n",
      " 'Topeka' 'RBC Capital' 'Janney Capital' 'Baird' 'Cleveland Research'\n",
      " 'Berenberg' 'Lazard' 'Standpoint' 'FBR Capital' 'Ameriprise Financial'\n",
      " 'Hamburger Sparkasse' 'Susquehanna' 'Standpoint Research'\n",
      " 'Cantor Fitzgerald' 'Evercore Partners' 'Global Equities Research'\n",
      " 'Wells Fargo' 'Macquarie' 'CLSA' 'Bernstein' 'JMP Securities'\n",
      " 'Cowen & Co.' 'Evercore ISI Group' 'Maxim Group' 'Brean Capital'\n",
      " 'Rosenblatt' 'Sterne Agee CRT' 'Drexel Hamilton' 'Longbow Research'\n",
      " 'Daiwa Capital' 'William Blair' 'OTR Global' 'KeyBanc' 'Loop Capital'\n",
      " 'Argus' 'Instinet' 'Atlantic Equities' 'DA Davidson' 'Guggenheim' 'HSBC'\n",
      " 'Citi' 'Piper Jaffray' 'Cascend' 'Nomura Instinet' 'B of A Securities'\n",
      " 'Piper Sandler']\n",
      "_ _ _ _ _ _ _ _ _ _ _ _ _ _ _ _ _ _ _ _ _ _ _ _ _ _ \n",
      "\n",
      "['Buy' 'Outperform' 'Overweight' 'Sector Perform' 'Neutral'\n",
      " 'Sector Outperform' 'Hold' 'Market Perform' '' 'Strong Buy'\n",
      " 'Long-term Buy' 'Sell' 'Market Outperform' 'Positive' 'Long-Term Buy'\n",
      " 'Equal-weight' 'Equal-Weight' 'Perform' 'Negative' 'Sector Weight'\n",
      " 'Reduce' 'Underweight']\n",
      "_ _ _ _ _ _ _ _ _ _ _ _ _ _ _ _ _ _ _ _ _ _ _ _ _ _ \n",
      "\n",
      "['' 'Strong Buy' 'Accumulate' 'Buy' 'Hold' 'Outperform' 'Neutral'\n",
      " 'Market Perform' 'Long-Term Buy' 'Sell' 'Overweight' 'Sector Perform'\n",
      " 'Equal-weight' 'Sector Weight' 'Equal-Weight' 'Perform' 'Reduce']\n",
      "_ _ _ _ _ _ _ _ _ _ _ _ _ _ _ _ _ _ _ _ _ _ _ _ _ _ \n",
      "\n",
      "['main' 'init' 'down' 'up' 'reit']\n",
      "_ _ _ _ _ _ _ _ _ _ _ _ _ _ _ _ _ _ _ _ _ _ _ _ _ _ \n",
      "\n"
     ]
    }
   ],
   "source": [
    "from data.Options import *\n",
    "\n",
    "symbol = \"AAPL\"\n",
    "recs = get_rec(\"AAPL\",printit=True)\n",
    "\n",
    "dates  = get_options_dates(symbol)\n",
    "chains = get_option_chains(symbol,dates)\n",
    "puts   = get_option_puts(symbol,dates)\n",
    "calls  = get_option_calls(symbol,dates)"
   ]
  }
 ],
 "metadata": {
  "kernelspec": {
   "display_name": "Python 3",
   "language": "python",
   "name": "python3"
  },
  "language_info": {
   "codemirror_mode": {
    "name": "ipython",
    "version": 3
   },
   "file_extension": ".py",
   "mimetype": "text/x-python",
   "name": "python",
   "nbconvert_exporter": "python",
   "pygments_lexer": "ipython3",
   "version": "3.7.7"
  }
 },
 "nbformat": 4,
 "nbformat_minor": 1
}
