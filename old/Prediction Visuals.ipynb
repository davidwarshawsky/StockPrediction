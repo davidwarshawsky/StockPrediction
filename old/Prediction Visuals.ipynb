{
 "cells": [
  {
   "cell_type": "code",
   "execution_count": 1,
   "metadata": {
    "pycharm": {
     "is_executing": false
    }
   },
   "outputs": [
    {
     "traceback": [
      "\u001b[1;31m---------------------------------------------------------------------------\u001b[0m",
      "\u001b[1;31mModuleNotFoundError\u001b[0m                       Traceback (most recent call last)",
      "\u001b[1;32m<ipython-input-1-81042db1b832>\u001b[0m in \u001b[0;36m<module>\u001b[1;34m\u001b[0m\n\u001b[0;32m      1\u001b[0m \u001b[1;32mimport\u001b[0m \u001b[0mnumpy\u001b[0m \u001b[1;32mas\u001b[0m \u001b[0mnp\u001b[0m\u001b[1;33m\u001b[0m\u001b[1;33m\u001b[0m\u001b[0m\n\u001b[0;32m      2\u001b[0m \u001b[1;32mimport\u001b[0m \u001b[0mpandas\u001b[0m \u001b[1;32mas\u001b[0m \u001b[0mpd\u001b[0m\u001b[1;33m\u001b[0m\u001b[1;33m\u001b[0m\u001b[0m\n\u001b[1;32m----> 3\u001b[1;33m \u001b[1;32mimport\u001b[0m \u001b[0mpandas_datareader\u001b[0m \u001b[1;32mas\u001b[0m \u001b[0mdr\u001b[0m\u001b[1;33m\u001b[0m\u001b[1;33m\u001b[0m\u001b[0m\n\u001b[0m\u001b[0;32m      4\u001b[0m \u001b[1;32mfrom\u001b[0m \u001b[0msklearn\u001b[0m\u001b[1;33m.\u001b[0m\u001b[0mmodel_selection\u001b[0m \u001b[1;32mimport\u001b[0m \u001b[0mtrain_test_split\u001b[0m\u001b[1;33m\u001b[0m\u001b[1;33m\u001b[0m\u001b[0m\n\u001b[0;32m      5\u001b[0m \u001b[1;32mfrom\u001b[0m \u001b[0msklearn\u001b[0m\u001b[1;33m.\u001b[0m\u001b[0mmetrics\u001b[0m \u001b[1;32mimport\u001b[0m \u001b[0mmean_absolute_error\u001b[0m\u001b[1;33m,\u001b[0m\u001b[0maccuracy_score\u001b[0m\u001b[1;33m\u001b[0m\u001b[1;33m\u001b[0m\u001b[0m\n",
      "\u001b[1;31mModuleNotFoundError\u001b[0m: No module named 'pandas_datareader'"
     ],
     "ename": "ModuleNotFoundError",
     "evalue": "No module named 'pandas_datareader'",
     "output_type": "error"
    }
   ],
   "source": [
    "import numpy as np \n",
    "import pandas as pd \n",
    "import pandas_datareader as dr\n",
    "from sklearn.model_selection import train_test_split\n",
    "from sklearn.metrics import mean_absolute_error,accuracy_score\n",
    "from sklearn.tree import DecisionTreeRegressor,DecisionTreeClassifier\n",
    "import matplotlib.pyplot as plt\n",
    "import os\n",
    "print(\"done\")"
   ]
  },
  {
   "cell_type": "code",
   "execution_count": null,
   "metadata": {
    "pycharm": {
     "is_executing": false
    }
   },
   "outputs": [],
   "source": [
    "table=pd.read_html('https://en.wikipedia.org/wiki/List_of_S%26P_500_companies')\n",
    "symbols = table[0]"
   ]
  },
  {
   "cell_type": "code",
   "execution_count": null,
   "metadata": {
    "pycharm": {
     "is_executing": false
    }
   },
   "outputs": [],
   "source": [
    "def GAP_LAP(X,windows=[1,2,5,10]):\n",
    "    for window in windows:\n",
    "        X['GapUp_'+str(window)] = (X['Open'].shift(-window).fillna(value = 0) > X['High']).astype(int)\n",
    "        X['LapUp_'+str(window)] = (X['Open'].shift(-window).fillna(value = 0) > X['Adj_Close']).astype(int)\n",
    "        X['GapUp_Sum_'+str(window)] = (X['GapUp_'+str(window)].rolling(5).aggregate(lambda x : x.sum()))\n",
    "        X['LapUp_Sum_'+str(window)] = (X['LapUp_'+str(window)].rolling(5).aggregate(lambda x : x.sum()))\n",
    "    return X\n",
    "\n",
    "\n",
    "def retrieve_data(SYMBOL,start,stop,window_days):\n",
    "    #Load & Select Data \n",
    "    stock_data = dr.DataReader(SYMBOL , 'yahoo',start=start,end=stop)\n",
    " \n",
    "     \n",
    "    stock_data = stock_data.fillna(0)\n",
    "    stock_data = stock_data[['Open', 'High', 'Low', 'Close','Adj Close', 'Volume']]\n",
    "    stock_data.columns = ['Open', 'High', 'Low', 'Close','Adj_Close', 'Volume']\n",
    "    columns = stock_data.columns.tolist()\n",
    "    columns.remove('Adj_Close')\n",
    "    stock_data = GAP_LAP(stock_data)\n",
    "    for col in columns:\n",
    "        for window in [2,5,10,15,20]:\n",
    "                stock_data['Δ'+col+'_'+str(window)] = pd.DataFrame(np.where(stock_data[col].diff(periods = window).fillna(value=0) >= 0,1,-1)).rolling(20).aggregate(lambda x : x.sum())\n",
    "\n",
    "    \n",
    "    stock_data['HL_Range'] = stock_data['High'] - stock_data['Low']\n",
    "    stock_data['HO_Range'] = stock_data['High'] - stock_data['Open'] \n",
    "    stock_data['OL_Range'] = stock_data['Open'] - stock_data['Low'] \n",
    "    stock_data['HO/OL_Range'] =  stock_data['HO_Range']/stock_data['OL_Range']\n",
    "        \n",
    "    Y = pd.DataFrame(stock_data['Adj_Close'].diff(periods = window_days).values,columns=[SYMBOL]).shift(-window_days)\n",
    "\n",
    "    stock_data.columns = [x+'_'+SYMBOL for x in list(stock_data.columns)]\n",
    "    \n",
    "    stock_data.drop(['Adj_Close_'+SYMBOL],axis=1, inplace=True)\n",
    "    Y[SYMBOL].reset_index(drop =True, inplace =True)\n",
    "    stock_data.reset_index(drop =True, inplace =True)\n",
    "    \n",
    "    df_out_x = stock_data.replace(to_replace=[np.NaN,np.inf,-np.inf],value = 0)\n",
    "    \n",
    "    df_out_y = pd.DataFrame(Y).replace(to_replace=[np.NaN,np.inf,-np.inf],value = 0)\n",
    "\n",
    "  \n",
    "    return df_out_x, df_out_y \n",
    "def categorical(pred,real):\n",
    "    pred = np.where(pred > 0 ,1,0)\n",
    "    real = np.where(real > 0 ,1,0)\n",
    "    return accuracy_score(real,pred)"
   ]
  },
  {
   "cell_type": "code",
   "execution_count": null,
   "metadata": {
    "pycharm": {
     "is_executing": false
    }
   },
   "outputs": [],
   "source": [
    "# Load Data\n",
    "start = '2017-10-02'\n",
    "stop  = '2020-04-18'\n",
    "shift_window_of_days = 10\n",
    "\n",
    "categorical_acc = []\n",
    "ticker = []\n",
    "prediction_in_TIME = []\n",
    "today_price = []\n",
    "for unique_sub_industry in symbols['GICS Sub Industry'].unique().tolist():\n",
    "    print('---------------------------------  '+unique_sub_industry+'  ---------------------------------')\n",
    "    \n",
    "    sub_companies = symbols.loc[(symbols['GICS Sub Industry'] == unique_sub_industry),'Symbol'].tolist()\n",
    "    for index,company in enumerate(sub_companies):\n",
    "        _,target = retrieve_data(company,start,stop,shift_window_of_days)\n",
    "\n",
    "#             production_test = target[-shift_window_of_days:]\n",
    "#             production_features = _[-shift_window_of_days:]\n",
    "        today_price.append(dr.DataReader(company , 'yahoo','2020-04-17',)['Adj Close'])\n",
    "        _ = _[:-shift_window_of_days]\n",
    "        target = target[:-shift_window_of_days]\n",
    "        Y_train,Y_test = train_test_split(target,test_size=0.5,shuffle=False)\n",
    "        \n",
    "        if index == 0:\n",
    "            train_1 = pd.DataFrame()\n",
    "            for unique_symbol in sub_companies:\n",
    "                try:\n",
    "                    train_2,y = retrieve_data(unique_symbol,start,stop,shift_window_of_days)\n",
    "                    train_2 = train_2\n",
    "                    train_1 = pd.concat((train_1,train_2),axis=1)\n",
    "                except:\n",
    "                    pass\n",
    "                \n",
    "            production_features = train_1[-shift_window_of_days:]\n",
    "            X_train,X_test = train_test_split(train_1[:-shift_window_of_days],test_size=0.5,shuffle=False)\n",
    "            \n",
    "        dct = DecisionTreeRegressor()\n",
    "        try:\n",
    "            dct.fit(pd.DataFrame(X_train).replace(to_replace=[np.NaN,np.inf,-np.inf],value = 0).values,\n",
    "                    pd.DataFrame(Y_train).replace(to_replace=[np.NaN,np.inf,-np.inf],value = 0).values.flatten())\n",
    "            predictions = dct.predict(pd.DataFrame(X_test).replace(to_replace=[np.NaN,np.inf,-np.inf],value = 0).values)\n",
    "\n",
    "            print('Mae'+' : '+company)\n",
    "            print(mean_absolute_error(Y_test,predictions))\n",
    "            print('Cat'+' : '+company)\n",
    "            print(categorical(predictions,Y_test))  \n",
    "\n",
    "            categorical_acc.append(categorical(predictions,Y_test))\n",
    "            ticker.append(company)\n",
    "            prediction_in_TIME.append(dct.predict(pd.DataFrame(production_features).replace(to_replace=[np.NaN,np.inf,-np.inf],value = 0))[-1])\n",
    "        except:\n",
    "            pass"
   ]
  },
  {
   "cell_type": "code",
   "execution_count": null,
   "metadata": {
    "pycharm": {
     "is_executing": false
    }
   },
   "outputs": [],
   "source": [
    "Predictions_Certainty = pd.DataFrame([*zip(ticker,categorical_acc,np.array(prediction_in_TIME).flatten()/np.array(today_price[:-1]).flatten())],columns= ['Symbols','Confidence',\n",
    "                                                                                          'Prediction'])"
   ]
  },
  {
   "cell_type": "code",
   "execution_count": null,
   "metadata": {
    "pycharm": {
     "is_executing": false
    }
   },
   "outputs": [],
   "source": [
    "for index,confidence_level in enumerate(Predictions_Certainty['Confidence'].tolist()):\n",
    "    if confidence_level > 1:\n",
    "        Predictions_Certainty.loc[index,'Confidence'] = .99"
   ]
  },
  {
   "cell_type": "code",
   "execution_count": null,
   "metadata": {
    "pycharm": {
     "is_executing": false
    }
   },
   "outputs": [],
   "source": [
    "plt.scatter(np.arange(len(Predictions_Certainty['Confidence'])),Predictions_Certainty['Confidence'])"
   ]
  },
  {
   "cell_type": "code",
   "execution_count": null,
   "metadata": {
    "pycharm": {
     "is_executing": false
    }
   },
   "outputs": [],
   "source": [
    "Predictions_Certainty.sort_values(by=['Prediction'], inplace=True,ascending=False)\n",
    "positive_growth = Predictions_Certainty.loc[Predictions_Certainty['Prediction'] > 0 ,:]\n",
    "if len(positive_growth) > 10:\n",
    "    positive_growth = positive_growth[:10]\n",
    "    \n",
    "Predictions_Certainty.sort_values(by=['Prediction'], inplace=True,ascending=True)\n",
    "negative_growth = Predictions_Certainty.loc[Predictions_Certainty['Prediction'] < 0 ,:]\n",
    "if len(negative_growth) > 10:\n",
    "    negative_growth = negative_growth[:10]"
   ]
  },
  {
   "cell_type": "code",
   "execution_count": null,
   "metadata": {
    "pycharm": {
     "is_executing": false
    }
   },
   "outputs": [],
   "source": [
    "Stock_Changes = pd.concat((negative_growth,positive_growth),axis=0)"
   ]
  },
  {
   "cell_type": "code",
   "execution_count": null,
   "metadata": {
    "pycharm": {
     "is_executing": false
    }
   },
   "outputs": [],
   "source": [
    "import time\n",
    "import smtplib, ssl\n",
    "from email.mime.text import MIMEText\n",
    "from email.mime.multipart import MIMEMultipart\n",
    "\n",
    "sender_email = \"eladwarshawsky@gmail.com\"\n",
    "receiver_email = \"eladwarshawsky@gmail.com\"\n",
    "# receiver_email = \"ron@memfix.com\"\n",
    "password = '!Elad2004'\n",
    "\n",
    "message = MIMEMultipart(\"alternative\")\n",
    "message[\"Subject\"] = \"Lowest and Highest Predictions\"\n",
    "message[\"From\"] = sender_email\n",
    "message[\"To\"] = receiver_email\n",
    "\n",
    "\n",
    "# Turn these into plain/html MIMEText objects\n",
    "part1 = MIMEText(Stock_Changes, \"plain\")\n",
    "\n",
    "\n",
    "# Add HTML/plain-text parts to MIMEMultipart message\n",
    "# The email client will try to render the last part first\n",
    "body=\"Date: %s\\n\\nYour daily log is attached.\"%(time.strftime(\"%m/%d/%Y\"))\n",
    "message.attach(body)\n",
    "message.attach(part1)\n",
    "\n",
    "\n",
    "# Create secure connection with server and send email\n",
    "context = ssl.create_default_context()\n",
    "with smtplib.SMTP_SSL(\"eladwarshawsky@gmail.com\", 465, context=context) as server:\n",
    "    server.login(sender_email, password)\n",
    "    server.sendmail(\n",
    "        sender_email, receiver_email, message.as_string()\n",
    "    )"
   ]
  },
  {
   "cell_type": "code",
   "execution_count": null,
   "metadata": {
    "pycharm": {
     "is_executing": false
    }
   },
   "outputs": [],
   "source": []
  }
 ],
 "metadata": {
  "kernelspec": {
   "display_name": "Python 3",
   "language": "python",
   "name": "python3"
  },
  "language_info": {
   "codemirror_mode": {
    "name": "ipython",
    "version": 3
   },
   "file_extension": ".py",
   "mimetype": "text/x-python",
   "name": "python",
   "nbconvert_exporter": "python",
   "pygments_lexer": "ipython3",
   "version": "3.7.7"
  }
 },
 "nbformat": 4,
 "nbformat_minor": 4
}